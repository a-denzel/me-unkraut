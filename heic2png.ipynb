{
 "cells": [
  {
   "cell_type": "code",
   "execution_count": null,
   "id": "9d6a40c7",
   "metadata": {},
   "outputs": [],
   "source": [
    "from pillow_heif import register_heif_opener\n",
    "from PIL import Image\n",
    "import os\n",
    "\n",
    "# HEIC-Unterstützung in Pillow registrieren\n",
    "register_heif_opener()\n",
    "\n",
    "def convert_heic_to_png(input_folder, output_folder):\n",
    "    os.makedirs(output_folder, exist_ok=True)\n",
    "    \n",
    "    for filename in os.listdir(input_folder):\n",
    "        if filename.lower().endswith(\".heic\"):\n",
    "            heic_path = os.path.join(input_folder, filename)\n",
    "            output_path = os.path.join(output_folder, filename.replace(\".HEIC\", \".png\"))\n",
    "            \n",
    "            # HEIC-Bild einfach mit Pillow öffnen\n",
    "            image = Image.open(heic_path)\n",
    "            image.save(output_path, format=\"PNG\")\n",
    "            print(f\"Konvertiert: {filename} → {output_path}\")\n",
    "\n",
    "# Beispielaufruf:\n",
    "convert_heic_to_png(\"dataset/heic_images/corn\", \"dataset/images/corn\")\n"
   ]
  }
 ],
 "metadata": {
  "kernelspec": {
   "display_name": "Python 3",
   "language": "python",
   "name": "python3"
  },
  "language_info": {
   "codemirror_mode": {
    "name": "ipython",
    "version": 3
   },
   "file_extension": ".py",
   "mimetype": "text/x-python",
   "name": "python",
   "nbconvert_exporter": "python",
   "pygments_lexer": "ipython3",
   "version": "3.11.9"
  }
 },
 "nbformat": 4,
 "nbformat_minor": 5
}

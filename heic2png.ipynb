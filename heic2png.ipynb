{
 "cells": [
  {
   "cell_type": "code",
   "execution_count": 2,
   "id": "9d6a40c7",
   "metadata": {},
   "outputs": [
    {
     "name": "stdout",
     "output_type": "stream",
     "text": [
      "Konvertiert: IMG_1074.HEIC → 1_dataset/images/perspektivisch\\IMG_1074.png\n",
      "Konvertiert: IMG_1075.HEIC → 1_dataset/images/perspektivisch\\IMG_1075.png\n",
      "Konvertiert: IMG_1076.HEIC → 1_dataset/images/perspektivisch\\IMG_1076.png\n",
      "Konvertiert: IMG_1077.HEIC → 1_dataset/images/perspektivisch\\IMG_1077.png\n",
      "Konvertiert: IMG_1078.HEIC → 1_dataset/images/perspektivisch\\IMG_1078.png\n",
      "Konvertiert: IMG_1079.HEIC → 1_dataset/images/perspektivisch\\IMG_1079.png\n",
      "Konvertiert: IMG_1080.HEIC → 1_dataset/images/perspektivisch\\IMG_1080.png\n",
      "Konvertiert: IMG_1081.HEIC → 1_dataset/images/perspektivisch\\IMG_1081.png\n",
      "Konvertiert: IMG_1082.HEIC → 1_dataset/images/perspektivisch\\IMG_1082.png\n",
      "Konvertiert: IMG_1083.HEIC → 1_dataset/images/perspektivisch\\IMG_1083.png\n",
      "Konvertiert: IMG_1084.HEIC → 1_dataset/images/perspektivisch\\IMG_1084.png\n",
      "Konvertiert: IMG_1085.HEIC → 1_dataset/images/perspektivisch\\IMG_1085.png\n"
     ]
    }
   ],
   "source": [
    "from pillow_heif import register_heif_opener\n",
    "from PIL import Image\n",
    "import os\n",
    "\n",
    "# HEIC-Unterstützung in Pillow registrieren\n",
    "register_heif_opener()\n",
    "\n",
    "def convert_heic_to_png(input_folder, output_folder):\n",
    "    os.makedirs(output_folder, exist_ok=True)\n",
    "    \n",
    "    for filename in os.listdir(input_folder):\n",
    "        if filename.lower().endswith(\".heic\"):\n",
    "            heic_path = os.path.join(input_folder, filename)\n",
    "            output_path = os.path.join(output_folder, filename.replace(\".HEIC\", \".png\"))\n",
    "            \n",
    "            # HEIC-Bild einfach mit Pillow öffnen\n",
    "            image = Image.open(heic_path)\n",
    "            image.save(output_path, format=\"PNG\")\n",
    "            print(f\"Konvertiert: {filename} → {output_path}\")\n",
    "\n",
    "# Beispielaufruf:\n",
    "convert_heic_to_png(\"1_dataset/heic_images/perspektivisch\", \"1_dataset/images/perspektivisch\")\n"
   ]
  },
  {
   "cell_type": "code",
   "execution_count": 5,
   "id": "d14f1429",
   "metadata": {},
   "outputs": [
    {
     "name": "stdout",
     "output_type": "stream",
     "text": [
      "Original Format: HEIF\n",
      "PNG gespeichert.\n"
     ]
    }
   ],
   "source": []
  },
  {
   "cell_type": "code",
   "execution_count": null,
   "id": "5ebe3c95",
   "metadata": {},
   "outputs": [],
   "source": []
  }
 ],
 "metadata": {
  "kernelspec": {
   "display_name": "Python 3 (ipykernel)",
   "language": "python",
   "name": "python3"
  },
  "language_info": {
   "codemirror_mode": {
    "name": "ipython",
    "version": 3
   },
   "file_extension": ".py",
   "mimetype": "text/x-python",
   "name": "python",
   "nbconvert_exporter": "python",
   "pygments_lexer": "ipython3",
   "version": "3.11.5"
  }
 },
 "nbformat": 4,
 "nbformat_minor": 5
}

{
 "cells": [
  {
   "cell_type": "code",
   "execution_count": 1,
   "id": "9d6a40c7",
   "metadata": {},
   "outputs": [
    {
     "name": "stdout",
     "output_type": "stream",
     "text": [
      "Konvertiert: IMG_1018.HEIC → 1_dataset/images\\IMG_1018.png\n",
      "Konvertiert: IMG_1019.HEIC → 1_dataset/images\\IMG_1019.png\n",
      "Konvertiert: IMG_1020.HEIC → 1_dataset/images\\IMG_1020.png\n",
      "Konvertiert: IMG_1021.HEIC → 1_dataset/images\\IMG_1021.png\n",
      "Konvertiert: IMG_1022.HEIC → 1_dataset/images\\IMG_1022.png\n",
      "Konvertiert: IMG_1023.HEIC → 1_dataset/images\\IMG_1023.png\n",
      "Konvertiert: IMG_1024.HEIC → 1_dataset/images\\IMG_1024.png\n",
      "Konvertiert: IMG_1025.HEIC → 1_dataset/images\\IMG_1025.png\n",
      "Konvertiert: IMG_1026.HEIC → 1_dataset/images\\IMG_1026.png\n",
      "Konvertiert: IMG_1027.HEIC → 1_dataset/images\\IMG_1027.png\n",
      "Konvertiert: IMG_1028.HEIC → 1_dataset/images\\IMG_1028.png\n",
      "Konvertiert: IMG_1029.HEIC → 1_dataset/images\\IMG_1029.png\n",
      "Konvertiert: IMG_1030.HEIC → 1_dataset/images\\IMG_1030.png\n",
      "Konvertiert: IMG_1031.HEIC → 1_dataset/images\\IMG_1031.png\n",
      "Konvertiert: IMG_1032.HEIC → 1_dataset/images\\IMG_1032.png\n",
      "Konvertiert: IMG_1033.HEIC → 1_dataset/images\\IMG_1033.png\n",
      "Konvertiert: IMG_1034.HEIC → 1_dataset/images\\IMG_1034.png\n",
      "Konvertiert: IMG_1035.HEIC → 1_dataset/images\\IMG_1035.png\n",
      "Konvertiert: IMG_1036.HEIC → 1_dataset/images\\IMG_1036.png\n",
      "Konvertiert: IMG_1037.HEIC → 1_dataset/images\\IMG_1037.png\n",
      "Konvertiert: IMG_1038.HEIC → 1_dataset/images\\IMG_1038.png\n",
      "Konvertiert: IMG_1039.HEIC → 1_dataset/images\\IMG_1039.png\n",
      "Konvertiert: IMG_1040.HEIC → 1_dataset/images\\IMG_1040.png\n",
      "Konvertiert: IMG_1041.HEIC → 1_dataset/images\\IMG_1041.png\n",
      "Konvertiert: IMG_1042.HEIC → 1_dataset/images\\IMG_1042.png\n",
      "Konvertiert: IMG_1043.HEIC → 1_dataset/images\\IMG_1043.png\n",
      "Konvertiert: IMG_1044.HEIC → 1_dataset/images\\IMG_1044.png\n",
      "Konvertiert: IMG_1045.HEIC → 1_dataset/images\\IMG_1045.png\n",
      "Konvertiert: IMG_1046.HEIC → 1_dataset/images\\IMG_1046.png\n",
      "Konvertiert: IMG_1047.HEIC → 1_dataset/images\\IMG_1047.png\n",
      "Konvertiert: IMG_1048.HEIC → 1_dataset/images\\IMG_1048.png\n",
      "Konvertiert: IMG_1049.HEIC → 1_dataset/images\\IMG_1049.png\n",
      "Konvertiert: IMG_1050.HEIC → 1_dataset/images\\IMG_1050.png\n",
      "Konvertiert: IMG_1051.HEIC → 1_dataset/images\\IMG_1051.png\n",
      "Konvertiert: IMG_1052.HEIC → 1_dataset/images\\IMG_1052.png\n",
      "Konvertiert: IMG_1053.HEIC → 1_dataset/images\\IMG_1053.png\n",
      "Konvertiert: IMG_1054.HEIC → 1_dataset/images\\IMG_1054.png\n",
      "Konvertiert: IMG_1055.HEIC → 1_dataset/images\\IMG_1055.png\n",
      "Konvertiert: IMG_1056.HEIC → 1_dataset/images\\IMG_1056.png\n",
      "Konvertiert: IMG_1057.HEIC → 1_dataset/images\\IMG_1057.png\n",
      "Konvertiert: IMG_1058.HEIC → 1_dataset/images\\IMG_1058.png\n",
      "Konvertiert: IMG_1059.HEIC → 1_dataset/images\\IMG_1059.png\n",
      "Konvertiert: IMG_1060.HEIC → 1_dataset/images\\IMG_1060.png\n",
      "Konvertiert: IMG_1061.HEIC → 1_dataset/images\\IMG_1061.png\n",
      "Konvertiert: IMG_1062.HEIC → 1_dataset/images\\IMG_1062.png\n",
      "Konvertiert: IMG_1063.HEIC → 1_dataset/images\\IMG_1063.png\n",
      "Konvertiert: IMG_1064.HEIC → 1_dataset/images\\IMG_1064.png\n",
      "Konvertiert: IMG_1065.HEIC → 1_dataset/images\\IMG_1065.png\n",
      "Konvertiert: IMG_1066.HEIC → 1_dataset/images\\IMG_1066.png\n",
      "Konvertiert: IMG_1067.HEIC → 1_dataset/images\\IMG_1067.png\n",
      "Konvertiert: IMG_1068.HEIC → 1_dataset/images\\IMG_1068.png\n",
      "Konvertiert: IMG_1069.HEIC → 1_dataset/images\\IMG_1069.png\n",
      "Konvertiert: IMG_1070.HEIC → 1_dataset/images\\IMG_1070.png\n",
      "Konvertiert: IMG_1071.HEIC → 1_dataset/images\\IMG_1071.png\n",
      "Konvertiert: IMG_1072.HEIC → 1_dataset/images\\IMG_1072.png\n",
      "Konvertiert: IMG_1073.HEIC → 1_dataset/images\\IMG_1073.png\n",
      "Konvertiert: IMG_1087.HEIC → 1_dataset/images\\IMG_1087.png\n",
      "Konvertiert: IMG_1088.HEIC → 1_dataset/images\\IMG_1088.png\n",
      "Konvertiert: IMG_1089.HEIC → 1_dataset/images\\IMG_1089.png\n",
      "Konvertiert: IMG_1092.HEIC → 1_dataset/images\\IMG_1092.png\n",
      "Konvertiert: IMG_1094.HEIC → 1_dataset/images\\IMG_1094.png\n",
      "Konvertiert: IMG_1095.HEIC → 1_dataset/images\\IMG_1095.png\n",
      "Konvertiert: IMG_1097.HEIC → 1_dataset/images\\IMG_1097.png\n",
      "Konvertiert: IMG_1098.HEIC → 1_dataset/images\\IMG_1098.png\n",
      "Konvertiert: IMG_1101.HEIC → 1_dataset/images\\IMG_1101.png\n",
      "Konvertiert: IMG_1102.HEIC → 1_dataset/images\\IMG_1102.png\n"
     ]
    }
   ],
   "source": [
    "from pillow_heif import register_heif_opener\n",
    "from PIL import Image\n",
    "import os\n",
    "\n",
    "# HEIC-Unterstützung in Pillow registrieren\n",
    "register_heif_opener()\n",
    "\n",
    "def convert_heic_to_png(input_folder, output_folder):\n",
    "    os.makedirs(output_folder, exist_ok=True)\n",
    "    \n",
    "    for filename in os.listdir(input_folder):\n",
    "        if filename.lower().endswith(\".heic\"):\n",
    "            heic_path = os.path.join(input_folder, filename)\n",
    "            output_path = os.path.join(output_folder, filename.replace(\".HEIC\", \".png\"))\n",
    "            \n",
    "            # HEIC-Bild einfach mit Pillow öffnen\n",
    "            image = Image.open(heic_path)\n",
    "            image.save(output_path, format=\"PNG\")\n",
    "            print(f\"Konvertiert: {filename} → {output_path}\")\n",
    "\n",
    "# Beispielaufruf:\n",
    "convert_heic_to_png(\"1_dataset/heic_images/2_reihen\", \"1_dataset/images/2_reihen\")\n"
   ]
  },
  {
   "cell_type": "code",
   "execution_count": 5,
   "id": "d14f1429",
   "metadata": {},
   "outputs": [
    {
     "name": "stdout",
     "output_type": "stream",
     "text": [
      "Original Format: HEIF\n",
      "PNG gespeichert.\n"
     ]
    }
   ],
   "source": []
  },
  {
   "cell_type": "code",
   "execution_count": null,
   "id": "5ebe3c95",
   "metadata": {},
   "outputs": [],
   "source": []
  }
 ],
 "metadata": {
  "kernelspec": {
   "display_name": "Python 3 (ipykernel)",
   "language": "python",
   "name": "python3"
  },
  "language_info": {
   "codemirror_mode": {
    "name": "ipython",
    "version": 3
   },
   "file_extension": ".py",
   "mimetype": "text/x-python",
   "name": "python",
   "nbconvert_exporter": "python",
   "pygments_lexer": "ipython3",
   "version": "3.11.5"
  }
 },
 "nbformat": 4,
 "nbformat_minor": 5
}
